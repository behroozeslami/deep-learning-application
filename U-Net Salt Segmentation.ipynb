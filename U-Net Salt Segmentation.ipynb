{
 "cells": [
  {
   "cell_type": "markdown",
   "id": "7f6f192b",
   "metadata": {},
   "source": [
    "Source: [U-Net: Training Image Segmentation Models in PyTorch](https://pyimagesearch.com/2021/11/08/u-net-training-image-segmentation-models-in-pytorch/)"
   ]
  },
  {
   "cell_type": "code",
   "execution_count": 2,
   "id": "f2efa8c0",
   "metadata": {},
   "outputs": [],
   "source": [
    "import os\n",
    "import numpy as np\n",
    "import pandas as pd\n",
    "import random\n",
    "from sklearn.model_selection import train_test_split\n",
    "from PIL import Image\n",
    "import matplotlib.pyplot as plt\n",
    "import torch\n",
    "from torch.utils.data import Dataset\n",
    "import torchvision.transforms as Tr\n",
    "from torch.optim.lr_scheduler import StepLR\n",
    "from unet import Unet"
   ]
  },
  {
   "cell_type": "code",
   "execution_count": 3,
   "id": "b58c9d53",
   "metadata": {},
   "outputs": [],
   "source": [
    "class SegmentationDataset(Dataset):\n",
    "\n",
    "    def __init__(self, path_images, path_masks, files, scale_x=255, scale_y=65535, transform=None):\n",
    "        \n",
    "        self.path_images = path_images\n",
    "        self.path_masks = path_masks\n",
    "        self.files = files\n",
    "        self.scale_x = scale_x\n",
    "        self.scale_y = scale_y\n",
    "        self.transform = transform\n",
    "    \n",
    "    def __len__(self):\n",
    "        \n",
    "        return len(self.files)\n",
    "    \n",
    "    def __getitem__(self,index):\n",
    "        \n",
    "        img = Image.open(os.path.join(self.path_images, self.files[index]))\n",
    "        img_mask = Image.open(os.path.join(self.path_masks, self.files[index]))\n",
    "\n",
    "        if self.transform:\n",
    "            sample = np.asanyarray(self.transform(img))\n",
    "        else:\n",
    "            sample = np.asanyarray(img)\n",
    "\n",
    "        sample = sample[:,:,:3]\n",
    "        sample = sample/self.scale_x\n",
    "\n",
    "        label = np.asanyarray(img_mask)\n",
    "        label = label/self.scale_y\n",
    "        label = np.expand_dims(label,2)\n",
    "\n",
    "        sample = torch.tensor(np.transpose(sample, (2,0,1)), dtype=torch.float)\n",
    "        label = torch.tensor(np.transpose(label, (2,0,1)), dtype=torch.float)\n",
    "        \n",
    "        return sample, label"
   ]
  },
  {
   "cell_type": "code",
   "execution_count": 4,
   "id": "79a59159",
   "metadata": {},
   "outputs": [],
   "source": [
    "def plot_sample(dataset, index):\n",
    "    \n",
    "    (x, y) = dataset[index]\n",
    "        \n",
    "    img = (np.transpose(x.numpy(), (1,2,0)))\n",
    "    img = Image.fromarray((255*img).astype(np.uint8))\n",
    "    img_mask = (np.transpose(y.numpy(), (1,2,0)))\n",
    "    img_mask = Image.fromarray((255*img_mask[:,:,0]).astype(np.uint8))\n",
    "    \n",
    "    _, axs = plt.subplots(1,2, figsize=(3.5,3.5))\n",
    "    axs[0].imshow(img, interpolation='nearest')\n",
    "    axs[0].set_xticks([])\n",
    "    axs[0].set_yticks([])\n",
    "    axs[1].imshow(img_mask, interpolation='nearest')\n",
    "    axs[1].set_xticks([])\n",
    "    axs[1].set_yticks([])\n",
    "    \n",
    "    return img, img_mask"
   ]
  },
  {
   "cell_type": "markdown",
   "id": "e3c4fa9b",
   "metadata": {},
   "source": [
    "# Setup the datasets"
   ]
  },
  {
   "cell_type": "code",
   "execution_count": 5,
   "id": "fd9baf21",
   "metadata": {},
   "outputs": [],
   "source": [
    "path_data = './data/Unet_data/train'\n",
    "path_images = os.path.join(path_data, 'images')\n",
    "path_masks = os.path.join(path_data, 'masks')"
   ]
  },
  {
   "cell_type": "code",
   "execution_count": 6,
   "id": "865f069c",
   "metadata": {},
   "outputs": [],
   "source": [
    "test_size = 0.15\n",
    "seed_split = 42\n",
    "batch_size = 50"
   ]
  },
  {
   "cell_type": "code",
   "execution_count": 7,
   "id": "ff06e3aa",
   "metadata": {},
   "outputs": [],
   "source": [
    "files = os.listdir(path_images)\n",
    "[train_files, test_files] = train_test_split(files, test_size=test_size, random_state=seed_split)\n",
    "\n",
    "train_dataset = SegmentationDataset(path_images, path_masks, train_files, scale_x=255, scale_y=65535, transform=None)\n",
    "test_dataset = SegmentationDataset(path_images, path_masks, test_files, scale_x=255, scale_y=65535, transform=None)\n",
    "\n",
    "train_loader = torch.utils.data.DataLoader(dataset=train_dataset,\n",
    "                                           batch_size=batch_size,\n",
    "                                           shuffle=True)\n",
    "test_loader = torch.utils.data.DataLoader(dataset=test_dataset,\n",
    "                                           batch_size=batch_size,\n",
    "                                           shuffle=False)"
   ]
  },
  {
   "cell_type": "code",
   "execution_count": 8,
   "id": "8956d255",
   "metadata": {},
   "outputs": [
    {
     "data": {
      "image/png": "[encoded data removed]",
      "text/plain": [
       "<Figure size 350x350 with 2 Axes>"
      ]
     },
     "metadata": {},
     "output_type": "display_data"
    }
   ],
   "source": [
    "img, img_mask = plot_sample(train_dataset, index=134)"
   ]
  },
  {
   "cell_type": "markdown",
   "id": "3e11a007",
   "metadata": {},
   "source": [
    "# make model"
   ]
  },
  {
   "cell_type": "markdown",
   "id": "d1512125",
   "metadata": {},
   "source": [
    "![Alt text](https://b2633864.smushcdn.com/2633864/wp-content/uploads/2021/11/unet_small.png?lossy=1&strip=1&webp=1)"
   ]
  },
  {
   "cell_type": "code",
   "execution_count": 9,
   "id": "52b23648",
   "metadata": {},
   "outputs": [
    {
     "data": {
      "text/plain": [
       "torch.Size([1, 3, 101, 101])"
      ]
     },
     "execution_count": 9,
     "metadata": {},
     "output_type": "execute_result"
    }
   ],
   "source": [
    "x=torch.unsqueeze(train_dataset[0][0],0)\n",
    "x.shape"
   ]
  },
  {
   "cell_type": "code",
   "execution_count": 10,
   "id": "9f06dc1c",
   "metadata": {},
   "outputs": [],
   "source": [
    "model = Unet(cin=3, features=[32, 64, 128, 256], num_classes=1)"
   ]
  },
  {
   "cell_type": "code",
   "execution_count": 11,
   "id": "4a79d025",
   "metadata": {},
   "outputs": [],
   "source": [
    "out = model(x)"
   ]
  },
  {
   "cell_type": "code",
   "execution_count": 12,
   "id": "91d49363",
   "metadata": {
    "scrolled": true
   },
   "outputs": [
    {
     "data": {
      "text/plain": [
       "torch.Size([1, 1, 101, 101])"
      ]
     },
     "execution_count": 12,
     "metadata": {},
     "output_type": "execute_result"
    }
   ],
   "source": [
    "out.shape"
   ]
  },
  {
   "cell_type": "code",
   "execution_count": null,
   "id": "ad9f15cf",
   "metadata": {},
   "outputs": [],
   "source": []
  },
  {
   "cell_type": "code",
   "execution_count": null,
   "id": "aa218eca",
   "metadata": {},
   "outputs": [],
   "source": []
  },
  {
   "cell_type": "code",
   "execution_count": null,
   "id": "72a44644",
   "metadata": {},
   "outputs": [],
   "source": []
  }
 ],
 "metadata": {
  "kernelspec": {
   "display_name": "Python 3 (ipykernel)",
   "language": "python",
   "name": "python3"
  },
  "language_info": {
   "codemirror_mode": {
    "name": "ipython",
    "version": 3
   },
   "file_extension": ".py",
   "mimetype": "text/x-python",
   "name": "python",
   "nbconvert_exporter": "python",
   "pygments_lexer": "ipython3",
   "version": "3.9.7"
  }
 },
 "nbformat": 4,
 "nbformat_minor": 5
}
