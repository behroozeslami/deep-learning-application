{
 "cells": [
  {
   "cell_type": "markdown",
   "id": "9ca12086",
   "metadata": {},
   "source": [
    "Inspired by **CNN Exercise - Deep Learning for Computer Vision** on [Kaggle](https://www.kaggle.com/code/mgmarques/cnn-exercise-deep-learning-for-computer-vision) "
   ]
  },
  {
   "cell_type": "code",
   "execution_count": 1,
   "id": "ead89ee1",
   "metadata": {},
   "outputs": [],
   "source": [
    "import pickle\n",
    "import os\n",
    "import numpy as np\n",
    "import pandas as pd\n",
    "import torch\n",
    "import torch.nn as nn\n",
    "#import torchvision.datasets as datasets \n",
    "#import torchvision.transforms as transforms\n",
    "import matplotlib.pyplot as plt\n",
    "from torch.utils.data import Dataset"
   ]
  },
  {
   "cell_type": "code",
   "execution_count": 2,
   "id": "25e94d6b",
   "metadata": {},
   "outputs": [],
   "source": [
    "class CIFARDataset(Dataset):\n",
    "\n",
    "    def __init__(self,path,filenames):\n",
    "        self.data_dict = self.load_data(path,filenames)\n",
    "        self.class_names = self.unpickle(os.path.join(path,'batches.meta'))[b'label_names']\n",
    "        self.class_names = list(map(lambda x: x.decode('UTF-8'), self.class_names))\n",
    "        self.images = torch.tensor(self.data_dict[b'data'].reshape(-1,3,32,32))/255\n",
    "        self.labels = torch.tensor(self.data_dict[b'labels']).unsqueeze(1)\n",
    "        \n",
    "    def __getitem__(self,index):\n",
    "        # Get one item from the dataset\n",
    "        return self.images[index], self.labels[index]\n",
    "    \n",
    "    def __len__(self):\n",
    "        return len(self.images)\n",
    "    \n",
    "    def load_data(self,path,filenames):\n",
    "        data_dict = {}\n",
    "        for filename in filenames:\n",
    "            batch_dict = self.unpickle(os.path.join(path_data,filename))\n",
    "            if len(data_dict)==0:\n",
    "                data_dict = batch_dict\n",
    "            else:\n",
    "                data_dict[b'labels'] += batch_dict[b'labels']  \n",
    "                data_dict[b'data'] = np.vstack((data_dict[b'data'],batch_dict[b'data']))\n",
    "        return data_dict\n",
    "    \n",
    "    def unpickle(self,file):\n",
    "        with open(file, 'rb') as fo:\n",
    "            dict = pickle.load(fo, encoding='bytes')\n",
    "        return dict"
   ]
  },
  {
   "cell_type": "code",
   "execution_count": 3,
   "id": "65102f0b",
   "metadata": {},
   "outputs": [],
   "source": [
    "def show_sample_image(dataset, idx=0):\n",
    "    image, label = dataset[idx]\n",
    "    label = label.item()\n",
    "    image = image.numpy().T\n",
    "    flipped_image = np.zeros(image.shape)\n",
    "    flipped_image[:,:, 0] = image[:,:, 0].T\n",
    "    flipped_image[:,:, 1] = image[:,:, 1].T\n",
    "    flipped_image[:,:, 2] = image[:,:, 2].T\n",
    "    title = dataset.class_names[label]\n",
    "    plt.subplots(figsize=(1,1))\n",
    "    plt.imshow(flipped_image, interpolation='nearest')\n",
    "    _=plt.xticks([])\n",
    "    _=plt.yticks([])\n",
    "    _=plt.title(title)\n",
    "    plt.show()\n",
    "    return flipped_image, label"
   ]
  },
  {
   "cell_type": "code",
   "execution_count": 4,
   "id": "ed77ea7f",
   "metadata": {},
   "outputs": [],
   "source": [
    "class CIFARCNN(nn.Module):\n",
    "    \n",
    "    def __init__(self):\n",
    "        super().__init__()\n",
    "        self.cnn1 = nn.Conv2d(in_channels=3, out_channels=64, kernel_size=3,stride=1, padding=1)\n",
    "        self.batchnorm1 = nn.BatchNorm2d(64)\n",
    "        self.relu = nn.ReLU()\n",
    "        self.maxpool1 = nn.MaxPool2d(kernel_size=2)\n",
    "        self.cnn2 = nn.Conv2d(in_channels=64, out_channels=128, kernel_size=5, stride=1, padding=2)\n",
    "        self.batchnorm2 = nn.BatchNorm2d(128)\n",
    "        self.maxpool2 = nn.MaxPool2d(kernel_size=2)\n",
    "        self.fc1 = nn.Linear(in_features=8192, out_features=1024)\n",
    "        self.droput = nn.Dropout(p=0.5)\n",
    "        self.fc2 = nn.Linear(in_features=1024, out_features=10)\n",
    "        \n",
    "    def forward(self,x):\n",
    "        \n",
    "        out = self.cnn1(x)\n",
    "        out = self.batchnorm1(out)\n",
    "        out = self.relu(out)\n",
    "        out = self.maxpool1(out)\n",
    "        out = self.cnn2(out)\n",
    "        out = self.batchnorm2(out)\n",
    "        out = self.relu(out)\n",
    "        out = self.maxpool2(out)\n",
    "        out = out.view(-1,8192)\n",
    "        out = self.fc1(out)\n",
    "        out = self.relu(out)\n",
    "        out = self.droput(out)\n",
    "        out = self.fc2(out)\n",
    "        \n",
    "        return out"
   ]
  },
  {
   "cell_type": "code",
   "execution_count": 5,
   "id": "b7e6839b",
   "metadata": {},
   "outputs": [],
   "source": [
    "path_data = './data/cifar-10-batches-py/'\n",
    "batchfiles = os.listdir(path_data)\n",
    "train_batches = ['data_batch_1', 'data_batch_2', 'data_batch_3', 'data_batch_4', 'data_batch_5']\n",
    "test_batches = ['test_batch']\n",
    "\n",
    "batch_size = 200"
   ]
  },
  {
   "cell_type": "code",
   "execution_count": 6,
   "id": "40ab896a",
   "metadata": {},
   "outputs": [],
   "source": [
    "train_dataset = CIFARDataset(path_data, train_batches)\n",
    "test_dataset = CIFARDataset(path_data, test_batches)\n",
    "\n",
    "train_loader = torch.utils.data.DataLoader(dataset=train_dataset,\n",
    "                                           batch_size=batch_size,\n",
    "                                           shuffle=True)\n",
    "test_loader = torch.utils.data.DataLoader(dataset=test_dataset,\n",
    "                                           batch_size=batch_size,\n",
    "                                           shuffle=False)"
   ]
  },
  {
   "cell_type": "code",
   "execution_count": 7,
   "id": "b3378f1c",
   "metadata": {},
   "outputs": [
    {
     "data": {
      "image/png": "[encoded data removed]",
      "text/plain": [
       "<Figure size 72x72 with 1 Axes>"
      ]
     },
     "metadata": {},
     "output_type": "display_data"
    }
   ],
   "source": [
    "image, label = show_sample_image(train_dataset, idx=50)"
   ]
  },
  {
   "cell_type": "markdown",
   "id": "e91f3bd7",
   "metadata": {},
   "source": [
    "test the mdel"
   ]
  },
  {
   "cell_type": "code",
   "execution_count": 8,
   "id": "28ea06e2",
   "metadata": {},
   "outputs": [],
   "source": [
    "model = CIFARCNN()\n",
    "\n",
    "images, labels = train_dataset[0:10]\n",
    "\n",
    "out = model(images)"
   ]
  },
  {
   "cell_type": "code",
   "execution_count": null,
   "id": "25a15fee",
   "metadata": {},
   "outputs": [],
   "source": []
  }
 ],
 "metadata": {
  "kernelspec": {
   "display_name": "Python 3 (ipykernel)",
   "language": "python",
   "name": "python3"
  },
  "language_info": {
   "codemirror_mode": {
    "name": "ipython",
    "version": 3
   },
   "file_extension": ".py",
   "mimetype": "text/x-python",
   "name": "python",
   "nbconvert_exporter": "python",
   "pygments_lexer": "ipython3",
   "version": "3.9.12"
  }
 },
 "nbformat": 4,
 "nbformat_minor": 5
}
